{
 "cells": [
  {
   "cell_type": "markdown",
   "metadata": {},
   "source": [
    "#### Realiza teste Shapiro-Francia no Python."
   ]
  },
  {
   "cell_type": "markdown",
   "metadata": {},
   "source": [
    "##### Etapas:\n",
    "* Instale o pacote nortest no R;\n",
    "* Importe as bibliotecas no arquivo python;\n",
    "* Execute o modelo e guarde os resíduos para colocá-los no teste Shapiro-Francia."
   ]
  },
  {
   "cell_type": "code",
   "execution_count": 1,
   "metadata": {},
   "outputs": [],
   "source": [
    "# Importando bibliotecas\n",
    "from rpy2.robjects import r, pandas2ri\n",
    "from rpy2.robjects.packages import importr\n"
   ]
  },
  {
   "cell_type": "code",
   "execution_count": null,
   "metadata": {},
   "outputs": [],
   "source": [
    "pandas2ri.activate()\n",
    "\n",
    "shapiro_francia = importr('nortest')\n",
    "\n",
    "valor = shapiro_francia.sf_test(model.resid) # Passe para o teste shapiro francia os resíduos do modelo.\n",
    "\n",
    "print(f'O valor da abscisa correspondente é: {valor[0]}')\n",
    "print(f'O valor do p-value é: {valor[1]}')\n",
    "print(f'O nome do método é: {valor[2]}')\n",
    "print(f'O valor dos resíduos são: {valor[0]}')\n",
    "\n",
    "\n"
   ]
  }
 ],
 "metadata": {
  "interpreter": {
   "hash": "344f8fb5279f449f007749fc99ce2e67cbec35b51fc964fbd1dce950b3661226"
  },
  "kernelspec": {
   "display_name": "Python 3.8.5 ('base')",
   "language": "python",
   "name": "python3"
  },
  "language_info": {
   "codemirror_mode": {
    "name": "ipython",
    "version": 3
   },
   "file_extension": ".py",
   "mimetype": "text/x-python",
   "name": "python",
   "nbconvert_exporter": "python",
   "pygments_lexer": "ipython3",
   "version": "3.8.5"
  },
  "orig_nbformat": 4
 },
 "nbformat": 4,
 "nbformat_minor": 2
}
